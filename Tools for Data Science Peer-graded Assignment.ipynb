{
 "cells": [
  {
   "cell_type": "markdown",
   "id": "637184e1",
   "metadata": {},
   "source": [
    "# My Jupyter Notebook on IBM Watson Studio <br>"
   ]
  },
  {
   "cell_type": "markdown",
   "id": "1f55c71f",
   "metadata": {},
   "source": [
    "\n",
    "**Abhishek Yadav**<br>Data Scientist\n",
    "  "
   ]
  },
  {
   "cell_type": "markdown",
   "id": "45591202",
   "metadata": {},
   "source": [
    "<br>"
   ]
  },
  {
   "cell_type": "markdown",
   "id": "21c747aa",
   "metadata": {},
   "source": [
    "*I am interested in data science because data i want to become a datascietist under the industry of Real Estate ,I want to be able help clients to make make best real Estate investments , having huge command of Data science it will personally help me to make good business decisions.*"
   ]
  },
  {
   "cell_type": "markdown",
   "id": "ebe0c4be",
   "metadata": {},
   "source": [
    "<br>"
   ]
  },
  {
   "cell_type": "markdown",
   "id": "726cf7e1",
   "metadata": {},
   "source": [
    "### The Following Code will Display today's time and date"
   ]
  },
  {
   "cell_type": "code",
   "execution_count": 2,
   "id": "c25c70fd",
   "metadata": {},
   "outputs": [
    {
     "name": "stdout",
     "output_type": "stream",
     "text": [
      "Today's Date and Time is  2022-12-29 13:57:47.553679\n"
     ]
    }
   ],
   "source": [
    "import datetime \n",
    "message = \"Today's Date and Time is \" \n",
    "print (message , datetime.datetime.now() )"
   ]
  },
  {
   "cell_type": "markdown",
   "id": "f7fd3e36",
   "metadata": {},
   "source": [
    "<br>"
   ]
  },
  {
   "cell_type": "markdown",
   "id": "1cb51da2",
   "metadata": {},
   "source": [
    "## My favourite Fruits"
   ]
  },
  {
   "cell_type": "markdown",
   "id": "758c5a4f",
   "metadata": {},
   "source": [
    "1. Apple\n",
    "2. Mango\n",
    "3. Orange\n",
    "4. Grapes"
   ]
  },
  {
   "cell_type": "markdown",
   "id": "fb35550c",
   "metadata": {},
   "source": [
    "-------------------------------------------------------------------------------------------------------------------------------\n"
   ]
  },
  {
   "attachments": {},
   "cell_type": "markdown",
   "id": "875587e7",
   "metadata": {},
   "source": [
    "|Name|Age|Gender|\n",
    "|----|---|------|\n",
    "|Abhishek|20|Male|\n",
    "|Aditya|20|Male|\n",
    "|Divya|20|Female|\n"
   ]
  },
  {
   "cell_type": "code",
   "execution_count": null,
   "id": "0f3acd23",
   "metadata": {},
   "outputs": [],
   "source": []
  }
 ],
 "metadata": {
  "kernelspec": {
   "display_name": "Python 3 (ipykernel)",
   "language": "python",
   "name": "python3"
  },
  "language_info": {
   "codemirror_mode": {
    "name": "ipython",
    "version": 3
   },
   "file_extension": ".py",
   "mimetype": "text/x-python",
   "name": "python",
   "nbconvert_exporter": "python",
   "pygments_lexer": "ipython3",
   "version": "3.9.13"
  }
 },
 "nbformat": 4,
 "nbformat_minor": 5
}
